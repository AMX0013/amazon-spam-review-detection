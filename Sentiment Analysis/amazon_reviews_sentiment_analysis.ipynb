{
  "cells": [
    {
      "cell_type": "markdown",
      "source": [
        "# Preprocessing\n",
        "Only features needed are reviewText and overall(product rating)"
      ],
      "metadata": {
        "id": "L3WeIHYdHMnU"
      }
    },
    {
      "cell_type": "code",
      "execution_count": null,
      "metadata": {
        "id": "55SfxNZwHDuC"
      },
      "outputs": [],
      "source": [
        "import json\n",
        "import re\n",
        "\n",
        "train = open('training_data','w')\n",
        "test = open('test_data','w')\n",
        "\n",
        "with open('Electronics_sentiment.json', 'r') as json_file: # took just 2000 rows from the og dataset\n",
        "    line = 0\n",
        "    for json_line in json_file:\n",
        "        row = json.loads(json_line)\n",
        "        review = row[\"reviewText\"].lower()\n",
        "        review = re.sub('((www\\.[^\\s]+)|(https?://[^\\s]+))','',review) # as links have no context here, removing them\n",
        "        review = re.sub('[\\s]+', ' ', review)\n",
        "        review = re.sub(r'\\W*\\b\\w{1,3}\\b', '', review)\n",
        "        review = review.strip()\n",
        "        line = line + 1\n",
        "        if row[\"overall\"] == 1.0 or row[\"overall\"] == 2.0:\n",
        "            sentiment = \"negative\"\n",
        "        elif row[\"overall\"] == 3.0:\n",
        "            sentiment = \"neutral\"\n",
        "        else:\n",
        "            sentiment = \"positive\"\n",
        "        if line%6 == 0:\n",
        "            print(f'__label__{sentiment} {review}', file=test)\n",
        "        else:\n",
        "            print(f'__label__{sentiment} {review}', file=train)\n",
        "\n",
        "train.close()\n",
        "test.close()"
      ]
    },
    {
      "cell_type": "markdown",
      "source": [
        "# Install fastText"
      ],
      "metadata": {
        "id": "h_eU9rjHHapV"
      }
    },
    {
      "cell_type": "code",
      "execution_count": null,
      "metadata": {
        "id": "3v_syTqCHDuE",
        "outputId": "e831436c-dd43-47f3-c8b7-753c14fe0380"
      },
      "outputs": [
        {
          "name": "stdout",
          "output_type": "stream",
          "text": [
            "fatal: destination path 'fastText' already exists and is not an empty directory.\n",
            "/home/viswa/sentiment_analysis/fastText\n",
            "Defaulting to user installation because normal site-packages is not writeable\n",
            "Processing /home/viswa/sentiment_analysis/fastText\n",
            "  Preparing metadata (setup.py) ... \u001b[?25ldone\n",
            "\u001b[?25hRequirement already satisfied: pybind11>=2.2 in /home/viswa/.local/lib/python3.9/site-packages (from fasttext==0.9.2) (2.10.4)\n",
            "Requirement already satisfied: setuptools>=0.7.0 in /home/viswa/.local/lib/python3.9/site-packages (from fasttext==0.9.2) (63.2.0)\n",
            "Requirement already satisfied: numpy in /home/viswa/.local/lib/python3.9/site-packages (from fasttext==0.9.2) (1.24.2)\n",
            "Building wheels for collected packages: fasttext\n",
            "  Building wheel for fasttext (setup.py) ... \u001b[?25ldone\n",
            "\u001b[?25h  Created wheel for fasttext: filename=fasttext-0.9.2-cp39-cp39-linux_x86_64.whl size=3125232 sha256=cadb0caf4ad705de0a7adfdb1f53baf4a5e023563d1e7057d4df0b16d9eae37c\n",
            "  Stored in directory: /tmp/pip-ephem-wheel-cache-v615hk7b/wheels/f2/81/5e/a8fcef93ac118be279658eeb38dd204d983db5e55cc2839968\n",
            "Successfully built fasttext\n",
            "Installing collected packages: fasttext\n",
            "  Attempting uninstall: fasttext\n",
            "    Found existing installation: fasttext 0.9.2\n",
            "    Uninstalling fasttext-0.9.2:\n",
            "      Successfully uninstalled fasttext-0.9.2\n",
            "Successfully installed fasttext-0.9.2\n",
            "\n",
            "\u001b[1m[\u001b[0m\u001b[34;49mnotice\u001b[0m\u001b[1;39;49m]\u001b[0m\u001b[39;49m A new release of pip is available: \u001b[0m\u001b[31;49m23.0.1\u001b[0m\u001b[39;49m -> \u001b[0m\u001b[32;49m23.1.2\u001b[0m\n",
            "\u001b[1m[\u001b[0m\u001b[34;49mnotice\u001b[0m\u001b[1;39;49m]\u001b[0m\u001b[39;49m To update, run: \u001b[0m\u001b[32;49mpip3 install --upgrade pip\u001b[0m\n"
          ]
        }
      ],
      "source": [
        "!git clone https://github.com/facebookresearch/fastText.git\n",
        "%cd fastText\n",
        "!pip install ."
      ]
    },
    {
      "cell_type": "markdown",
      "source": [
        "# Training and testing the classifier![sentiment_analysis_model.png](data:image/png;base64,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)"
      ],
      "metadata": {
        "id": "vQq9lMZ2IufR"
      }
    },
    {
      "cell_type": "markdown",
      "source": [
        "# Test the classifier using fastText API"
      ],
      "metadata": {
        "id": "gEWSQiWOHdRN"
      }
    },
    {
      "cell_type": "code",
      "execution_count": null,
      "metadata": {
        "id": "0QC08f5NHDuF",
        "outputId": "ce3c9656-3a77-4b5e-bfa1-106839a105ec"
      },
      "outputs": [
        {
          "name": "stdout",
          "output_type": "stream",
          "text": [
            "([['__label__positive'], ['__label__positive'], ['__label__positive']], [array([0.9992331], dtype=float32), array([0.99999833], dtype=float32), array([0.99982566], dtype=float32)])\n"
          ]
        }
      ],
      "source": [
        "from fasttext import load_model\n",
        "classifier = load_model(\"/home/viswa/sentiment_analysis/model_review.bin\")\n",
        "reviews = ['Would not recommend it to anyone', 'Proud to own this', 'Love it. I use it all the time']\n",
        "labels = classifier.predict(reviews)\n",
        "print (labels)"
      ]
    },
    {
      "cell_type": "markdown",
      "source": [
        "I suppose since the data is not uniform in terms of the labels. In the dataset, I see only 1 negative review for every ~10 positive reviews, the model is not able to classify the negative reviews correctly"
      ],
      "metadata": {
        "id": "z3ztIf1KHmy3"
      }
    }
  ],
  "metadata": {
    "kernelspec": {
      "display_name": "Python 3",
      "language": "python",
      "name": "python3"
    },
    "language_info": {
      "codemirror_mode": {
        "name": "ipython",
        "version": 3
      },
      "file_extension": ".py",
      "mimetype": "text/x-python",
      "name": "python",
      "nbconvert_exporter": "python",
      "pygments_lexer": "ipython3",
      "version": "3.9.16"
    },
    "orig_nbformat": 4,
    "colab": {
      "provenance": []
    }
  },
  "nbformat": 4,
  "nbformat_minor": 0
}